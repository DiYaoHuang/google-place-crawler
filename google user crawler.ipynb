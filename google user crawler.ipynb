{
 "cells": [
  {
   "cell_type": "code",
   "execution_count": null,
   "metadata": {},
   "outputs": [],
   "source": [
    "import requests\n",
    "from bs4 import BeautifulSoup\n",
    "import json\n",
    "import pandas as pd\n",
    "from googlemaps.client import Client\n",
    "import time\n",
    "import random"
   ]
  },
  {
   "cell_type": "code",
   "execution_count": null,
   "metadata": {},
   "outputs": [],
   "source": [
    "def getListItem(list):\n",
    "    res = ''\n",
    "    if list is not None:\n",
    "        for r in list:\n",
    "            res += r + ','\n",
    "        res = res[:-1]\n",
    "    return res\n",
    "def parseRecommend(recommend):\n",
    "    recommends = ''\n",
    "    for i in range(len(recommend)):\n",
    "        try:\n",
    "            recommend[i][1][11]\n",
    "            recommends += recommend[i][1][11] + ';' + getListItem(recommend[i][1][13]) + ';'\n",
    "        except:\n",
    "            recommends += ''\n",
    "    return recommends\n",
    "def getRecommend(place_id):\n",
    "    apiKey = '' #your api key\n",
    "    gmaps = Client(key = apiKey)\n",
    "    placeId = place_id\n",
    "    try:\n",
    "        info = gmaps.place(place_id = placeId, language='zh-TW')\n",
    "        url = info.get('result').get('url')\n",
    "        time.sleep(random.uniform(0,2))\n",
    "        headers = {'user-agent':'Mozilla/5.0 (Windows NT 10.0; Win64; x64) AppleWebKit/537.36 (KHTML, like Gecko) Chrome/87.0.4280.141 Safari/537.36'}\n",
    "        response = requests.get(url, headers=headers)\n",
    "        soup = BeautifulSoup(response.text, \"html.parser\")\n",
    "        scripts = soup.head.find_all('script')\n",
    "        for script in scripts:\n",
    "            if 'window.APP_INITIALIZATION_STATE' in script.contents[0]:\n",
    "                script_text = script.contents[0]\n",
    "        ds_text = script_text[script_text.index('window.APP_INITIALIZATION_STATE')+32:script_text.index(';window.APP_FLAGS')]\n",
    "        ds_text = ds_text.replace(\")]}\\'\", '')\n",
    "        ds = json.loads(ds_text)\n",
    "        ds2 = json.loads(ds[3][6])\n",
    "        try:\n",
    "            recommend = ds2[6][99][0][0][1]\n",
    "        except TypeError:\n",
    "            recommend = []\n",
    "    except:\n",
    "        recommend = []\n",
    "    res = parseRecommend(recommend) if len(recommend) != 0 else ''\n",
    "    return res"
   ]
  },
  {
   "cell_type": "code",
   "execution_count": null,
   "metadata": {},
   "outputs": [],
   "source": [
    "raw_data = pd.read_excel('C:\\\\Users\\\\daniel.huang\\\\Desktop\\\\唐宮蒙古烤肉涮羊肉餐廳.xlsx')\n",
    "raw_data = raw_data[(raw_data['評分'] == 5) & (raw_data['評論內容'].notna())].head(500)"
   ]
  },
  {
   "cell_type": "code",
   "execution_count": null,
   "metadata": {},
   "outputs": [],
   "source": [
    "uid_list = raw_data['uid'].to_list()"
   ]
  },
  {
   "cell_type": "code",
   "execution_count": null,
   "metadata": {
    "scrolled": true
   },
   "outputs": [],
   "source": [
    "review_list = []\n",
    "headers = {'user-agent':'Mozilla/5.0 (Windows NT 10.0; Win64; x64) AppleWebKit/537.36 (KHTML, like Gecko) Chrome/87.0.4280.141 Safari/537.36'}\n",
    "for item in uid_list:\n",
    "    target_uid = item\n",
    "    url = 'https://www.google.com/maps/contrib/'+target_uid+'/reviews'\n",
    "    response = requests.get(url, headers=headers)\n",
    "    soup = BeautifulSoup(response.text, \"html.parser\") \n",
    "    scripts = soup.head.find_all('script')\n",
    "    script_text = ''\n",
    "    for script in scripts:\n",
    "        if 'window.APP_INITIALIZATION_STATE' in script.contents[0]:\n",
    "            script_text = script.contents[0]\n",
    "    ds_text = script_text[script_text.index('window.APP_INITIALIZATION_STATE')+32:script_text.index(';window.APP_FLAGS')]\n",
    "    ds_text = ds_text.replace(\")]}\\'\", '')\n",
    "    ds = json.loads(ds_text)\n",
    "    ds2 = json.loads(ds[3][9])    \n",
    "    #UID\n",
    "    try:\n",
    "        uid = ds2[16][14]\n",
    "    except TypeError:\n",
    "        uid = ''\n",
    "    #名稱\n",
    "    try:\n",
    "        name = ds2[16][0]\n",
    "    except TypeError:\n",
    "        name = ''\n",
    "    #積分\n",
    "    try:\n",
    "        score = ds2[16][8][1][0]\n",
    "    except TypeError:\n",
    "        score = ''\n",
    "    #等級\n",
    "    try:\n",
    "        rank = ds2[16][8][1][1]\n",
    "    except TypeError:\n",
    "        rank = ''\n",
    "    #評分數\n",
    "    try:\n",
    "        number_of_score = ds2[13][0][0]\n",
    "    except TypeError:\n",
    "        number_of_score = ''\n",
    "    #評論數\n",
    "    try:\n",
    "        number_of_reviews = ds2[13][1][0]\n",
    "    except TypeError:\n",
    "        number_of_reviews = ''\n",
    "    #評論(前10筆)\n",
    "    try:\n",
    "        review = ds2[24][0]\n",
    "    except TypeError:\n",
    "        review = ''\n",
    "    except IndexError:\n",
    "        review = ''        \n",
    "    print('UID:' + str(uid) + ' 名稱:' + str(name))    \n",
    "    for i in range(len(review)):\n",
    "        place_id = ''\n",
    "        place_name = ''\n",
    "        place_url = ''\n",
    "        post_time = ''\n",
    "        rank = ''\n",
    "        tag = ''\n",
    "        full_address = ''\n",
    "        district = ''\n",
    "        road = ''\n",
    "        content = ''\n",
    "        recommend = ''\n",
    "        place_id = review[i][1][18]\n",
    "        place_name = review[i][1][2]\n",
    "        place_url = 'https://www.google.com' + review[i][1][17][0]\n",
    "        post_time = review[i][0][1]\n",
    "        rank = review[i][0][4]\n",
    "        tag = getListItem(review[i][1][4])\n",
    "        full_address = review[i][1][3]\n",
    "        district = review[i][1][26]\n",
    "        road = review[i][1][20]\n",
    "        content = review[i][0][3] if review[i][0][3] is not None else ''\n",
    "        recommend = getRecommend(place_id)\n",
    "        review_list.append([uid, name, score, rank, number_of_score, number_of_reviews, place_id, place_name, place_url, post_time, rank, tag, full_address, district, road, content, recommend])"
   ]
  },
  {
   "cell_type": "code",
   "execution_count": null,
   "metadata": {},
   "outputs": [],
   "source": [
    "columns = ['uid', '評論者名稱', '積分', '等級', '評分數', '評論數', 'place_id', '商家名稱', '商家url', '評論時間', '評價', '商家類型', '地址', '行政區', '路名', '評論內容', '推薦商家']\n",
    "DF = pd.DataFrame(review_list, columns=columns)\n",
    "DF.to_excel('C:\\\\Users\\\\daniel.huang\\\\Desktop\\\\唐宮蒙古烤肉涮羊肉餐廳_userdata.xlsx', index=False, engine='xlsxwriter')"
   ]
  },
  {
   "cell_type": "code",
   "execution_count": null,
   "metadata": {
    "scrolled": true
   },
   "outputs": [],
   "source": [
    "print('UID:' + str(uid))\n",
    "print('名稱:' + str(name))\n",
    "print('積分:' + str(score))\n",
    "print('等級:' + str(rank))\n",
    "print('評分數:' + str(number_of_score))\n",
    "print('評論數:' + str(number_of_reviews))"
   ]
  },
  {
   "cell_type": "code",
   "execution_count": null,
   "metadata": {},
   "outputs": [],
   "source": []
  }
 ],
 "metadata": {
  "kernelspec": {
   "display_name": "Python 3",
   "language": "python",
   "name": "python3"
  },
  "language_info": {
   "codemirror_mode": {
    "name": "ipython",
    "version": 3
   },
   "file_extension": ".py",
   "mimetype": "text/x-python",
   "name": "python",
   "nbconvert_exporter": "python",
   "pygments_lexer": "ipython3",
   "version": "3.8.5"
  }
 },
 "nbformat": 4,
 "nbformat_minor": 4
}
